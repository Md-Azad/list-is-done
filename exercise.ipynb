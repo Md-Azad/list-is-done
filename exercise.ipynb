{
 "cells": [
  {
   "cell_type": "code",
   "execution_count": 8,
   "metadata": {},
   "outputs": [
    {
     "name": "stdout",
     "output_type": "stream",
     "text": [
      "1 1 1 1 1 \n",
      "2 2 2 2 2 \n",
      "3 3 3 3 3 \n",
      "4 4 4 4 4 \n"
     ]
    }
   ],
   "source": [
    "list=[ [1,1,1,1,1],\n",
    "       [2,2,2,2,2],\n",
    "       [3,3,3,3,3],\n",
    "       [4,4,4,4,4]\n",
    "      ]\n",
    "for x in list:\n",
    "    for y in x:\n",
    "        print(y,end=' ')\n",
    "    print()"
   ]
  },
  {
   "cell_type": "code",
   "execution_count": 2,
   "metadata": {},
   "outputs": [
    {
     "name": "stdout",
     "output_type": "stream",
     "text": [
      "enter a number49\n",
      "odd number\n",
      "try again\n"
     ]
    }
   ],
   "source": [
    "num=input(\"enter a number\")\n",
    "num=int(num)\n",
    "if num%2==0:\n",
    "    print(\"even number\")\n",
    "    print(\"thank you\")\n",
    "else:\n",
    "    print(\"odd number\")\n",
    "    print(\"try again\")"
   ]
  },
  {
   "cell_type": "code",
   "execution_count": 7,
   "metadata": {},
   "outputs": [
    {
     "name": "stdout",
     "output_type": "stream",
     "text": [
      "enter a number101\n",
      "century +\n"
     ]
    }
   ],
   "source": [
    "num=input(\"enter a number\")\n",
    "num=int(num)\n",
    "if num==50:\n",
    "    print(\"hulf century\")\n",
    "elif num==100:\n",
    "    print(\"century\")\n",
    "elif 100<num<150:\n",
    "    print(\"century +\")\n",
    "else:\n",
    "    print(\"unknown number\")"
   ]
  },
  {
   "cell_type": "code",
   "execution_count": 10,
   "metadata": {},
   "outputs": [
    {
     "name": "stdout",
     "output_type": "stream",
     "text": [
      "enter number1\n",
      "false\n"
     ]
    }
   ],
   "source": [
    "num=input(\"enter number\")\n",
    "num=int(num)\n",
    "if num==5 and num<10:\n",
    "    print(\"true\")\n",
    "else:\n",
    "    print(\"false\")"
   ]
  },
  {
   "cell_type": "code",
   "execution_count": 15,
   "metadata": {},
   "outputs": [
    {
     "name": "stdout",
     "output_type": "stream",
     "text": [
      "enter number4\n",
      "false\n"
     ]
    }
   ],
   "source": [
    "num=input(\"enter number\")\n",
    "num=int(num)\n",
    "if num==5 or num>10:\n",
    "    print(\"true\")\n",
    "else:\n",
    "    print(\"false\")"
   ]
  },
  {
   "cell_type": "code",
   "execution_count": 18,
   "metadata": {},
   "outputs": [
    {
     "name": "stdout",
     "output_type": "stream",
     "text": [
      "enter your name:-azad\n",
      "enter your name:-azad\n",
      "congratulation ,name has been matched\n"
     ]
    }
   ],
   "source": [
    "name1=input(\"enter your name:-\")\n",
    "name2=input(\"enter your name:-\")\n",
    "if name1.upper()==name2.upper():\n",
    "    print(\"congratulation ,name has been matched\")\n",
    "else:\n",
    "    print(\"sorry,name not matched\")"
   ]
  },
  {
   "cell_type": "code",
   "execution_count": 23,
   "metadata": {},
   "outputs": [
    {
     "name": "stdout",
     "output_type": "stream",
     "text": [
      "Steve jobs\n"
     ]
    }
   ],
   "source": [
    "name=\"Steve jobs\"\n",
    "if name !=\"Steve job\":\n",
    "    print(name)"
   ]
  },
  {
   "cell_type": "code",
   "execution_count": 1,
   "metadata": {},
   "outputs": [
    {
     "name": "stdout",
     "output_type": "stream",
     "text": [
      "enter your number5\n",
      "5\n",
      "6\n",
      "7\n",
      "8\n",
      "9\n",
      "10\n"
     ]
    }
   ],
   "source": [
    "num=input(\"enter your number\")\n",
    "num=int(num)\n",
    "while num<=10:\n",
    "    print(num)\n",
    "    num +=1"
   ]
  },
  {
   "cell_type": "code",
   "execution_count": null,
   "metadata": {},
   "outputs": [],
   "source": [
    "x=1\n",
    "while True:\n",
    "    print(x)\n",
    "    x +=1\n",
    "    if x >10:\n",
    "        break\n",
    "\n"
   ]
  },
  {
   "cell_type": "code",
   "execution_count": 1,
   "metadata": {},
   "outputs": [
    {
     "name": "stdout",
     "output_type": "stream",
     "text": [
      "1\n",
      "3\n",
      "5\n",
      "7\n",
      "9\n",
      "11\n",
      "13\n",
      "15\n",
      "17\n",
      "19\n"
     ]
    }
   ],
   "source": [
    "x=0\n",
    "while x<20:\n",
    "    x+=1\n",
    "    if x%2==0:\n",
    "        continue\n",
    "    print(x)"
   ]
  },
  {
   "cell_type": "code",
   "execution_count": 6,
   "metadata": {},
   "outputs": [
    {
     "name": "stdout",
     "output_type": "stream",
     "text": [
      "1\n",
      "2\n",
      "3\n",
      "4\n",
      "5\n",
      "6\n",
      "7\n",
      "8\n",
      "9\n",
      "10\n",
      "sum is 55\n",
      "sum is : 55\n"
     ]
    }
   ],
   "source": [
    "sum=0\n",
    "for num in range(1,11):\n",
    "    print(num)\n",
    "    sum+=num\n",
    "print(\"sum is {sum}\".format(sum=sum))\n",
    "print(\"sum is :\",sum)"
   ]
  },
  {
   "cell_type": "code",
   "execution_count": 7,
   "metadata": {},
   "outputs": [
    {
     "name": "stdout",
     "output_type": "stream",
     "text": [
      "1 2 3 4 4 \n",
      "3 3 3 3 3 \n",
      "4 4 4 4 4 \n"
     ]
    }
   ],
   "source": [
    "matrix=[[1,2,3,4,4],\n",
    "        [3,3,3,3,3],\n",
    "        [4,4,4,4,4],\n",
    "    \n",
    "        ]\n",
    "for x in matrix:\n",
    "    for y in x:\n",
    "        print(y,end=' ')\n",
    "    print()"
   ]
  },
  {
   "cell_type": "code",
   "execution_count": 8,
   "metadata": {},
   "outputs": [
    {
     "name": "stdout",
     "output_type": "stream",
     "text": [
      "[1, 2]\n"
     ]
    }
   ],
   "source": [
    "list=[1,2,3,4,5]\n",
    "print(list[0:2])"
   ]
  },
  {
   "cell_type": "code",
   "execution_count": 9,
   "metadata": {},
   "outputs": [
    {
     "name": "stdout",
     "output_type": "stream",
     "text": [
      "total sum is:15\n"
     ]
    }
   ],
   "source": [
    "number_of_list=[1,2,3,4,5]\n",
    "sum=0\n",
    "for num in number_of_list:\n",
    "    sum+=num\n",
    "print(\"total sum is:{sum}\".format(sum=sum))"
   ]
  }
 ],
 "metadata": {
  "kernelspec": {
   "display_name": "Python 3",
   "language": "python",
   "name": "python3"
  },
  "language_info": {
   "codemirror_mode": {
    "name": "ipython",
    "version": 3
   },
   "file_extension": ".py",
   "mimetype": "text/x-python",
   "name": "python",
   "nbconvert_exporter": "python",
   "pygments_lexer": "ipython3",
   "version": "3.7.0"
  }
 },
 "nbformat": 4,
 "nbformat_minor": 2
}
