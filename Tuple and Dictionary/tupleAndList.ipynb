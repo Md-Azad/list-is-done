{
 "cells": [
  {
   "cell_type": "code",
   "execution_count": 2,
   "metadata": {},
   "outputs": [
    {
     "name": "stdout",
     "output_type": "stream",
     "text": [
      "('a', 'q', 1, 3) <class 'tuple'>\n"
     ]
    }
   ],
   "source": [
    "#tuple\n",
    "tp='a','q',1,3\n",
    "print(tp,type(tp))"
   ]
  },
  {
   "cell_type": "code",
   "execution_count": 3,
   "metadata": {},
   "outputs": [
    {
     "name": "stdout",
     "output_type": "stream",
     "text": [
      "a\n",
      "q\n",
      "1\n",
      "3\n"
     ]
    }
   ],
   "source": [
    "#tuple itaration\n",
    "tp='a','q',1,3\n",
    "for t in tp:\n",
    "    print(t)"
   ]
  },
  {
   "cell_type": "code",
   "execution_count": 9,
   "metadata": {},
   "outputs": [
    {
     "name": "stdout",
     "output_type": "stream",
     "text": [
      "same taple\n"
     ]
    }
   ],
   "source": [
    "#tuple comparision\n",
    "t1=1,2,3\n",
    "t2=1,2,3\n",
    "if t1==t2:\n",
    "    print(\"same taple\")"
   ]
  },
  {
   "cell_type": "code",
   "execution_count": 11,
   "metadata": {},
   "outputs": [
    {
     "ename": "TypeError",
     "evalue": "'tuple' object does not support item assignment",
     "output_type": "error",
     "traceback": [
      "\u001b[1;31m---------------------------------------------------------------------------\u001b[0m",
      "\u001b[1;31mTypeError\u001b[0m                                 Traceback (most recent call last)",
      "\u001b[1;32m<ipython-input-11-42a1179875b1>\u001b[0m in \u001b[0;36m<module>\u001b[1;34m()\u001b[0m\n\u001b[0;32m      2\u001b[0m \u001b[1;31m#you can't change a value from tuble but you can change entire tuple .\u001b[0m\u001b[1;33m\u001b[0m\u001b[1;33m\u001b[0m\u001b[0m\n\u001b[0;32m      3\u001b[0m \u001b[0mt1\u001b[0m\u001b[1;33m=\u001b[0m\u001b[1;36m1\u001b[0m\u001b[1;33m,\u001b[0m\u001b[1;36m3\u001b[0m\u001b[1;33m,\u001b[0m\u001b[1;36m4\u001b[0m\u001b[1;33m\u001b[0m\u001b[0m\n\u001b[1;32m----> 4\u001b[1;33m \u001b[0mt1\u001b[0m\u001b[1;33m[\u001b[0m\u001b[1;36m1\u001b[0m\u001b[1;33m]\u001b[0m\u001b[1;33m=\u001b[0m\u001b[1;34m'bill'\u001b[0m\u001b[1;33m\u001b[0m\u001b[0m\n\u001b[0m\u001b[0;32m      5\u001b[0m \u001b[0mprint\u001b[0m\u001b[1;33m(\u001b[0m\u001b[0mt1\u001b[0m\u001b[1;33m)\u001b[0m\u001b[1;33m\u001b[0m\u001b[0m\n",
      "\u001b[1;31mTypeError\u001b[0m: 'tuple' object does not support item assignment"
     ]
    }
   ],
   "source": [
    "#Immutable.\n",
    "#you can't change a value from tuble but you can change entire tuple .\n",
    "t1=1,3,4\n",
    "t1[1]='bill'\n",
    "print(t1)"
   ]
  },
  {
   "cell_type": "code",
   "execution_count": 12,
   "metadata": {},
   "outputs": [
    {
     "name": "stdout",
     "output_type": "stream",
     "text": [
      "1|2|3\n"
     ]
    }
   ],
   "source": [
    "l=1,2,3\n",
    "x,y,z=l\n",
    "print(x,y,z,sep=\"|\")"
   ]
  },
  {
   "cell_type": "code",
   "execution_count": 4,
   "metadata": {},
   "outputs": [
    {
     "name": "stdout",
     "output_type": "stream",
     "text": [
      "kamrul | 55\n"
     ]
    }
   ],
   "source": [
    "#dictionary\n",
    "dict={}\n",
    "dict['name']='kamrul'\n",
    "dict['age']=55\n",
    "print(dict['name'],'|',dict['age'])\n"
   ]
  },
  {
   "cell_type": "code",
   "execution_count": 6,
   "metadata": {},
   "outputs": [
    {
     "name": "stdout",
     "output_type": "stream",
     "text": [
      "01782596000\n",
      "01632958383\n",
      "2\n"
     ]
    }
   ],
   "source": [
    "#dictionary syntex\n",
    "\n",
    "dict={'azad': '01782596000','kamrul':'01632958383'}\n",
    "print(dict['azad'])\n",
    "print(dict['kamrul'])\n",
    "print(len(dict))"
   ]
  },
  {
   "cell_type": "code",
   "execution_count": 8,
   "metadata": {},
   "outputs": [
    {
     "name": "stdout",
     "output_type": "stream",
     "text": [
      "{'rice': '55', 'fish': '102'}\n",
      "{'rice': '55', 'fish': '102', 'oil': '90'}\n"
     ]
    }
   ],
   "source": [
    "#modification dictionary \n",
    "price_product={'rice':'55','fish':'102'}\n",
    "print(price_product)\n",
    "price_product['oil']='90'\n",
    "print(price_product)"
   ]
  },
  {
   "cell_type": "code",
   "execution_count": 9,
   "metadata": {},
   "outputs": [
    {
     "name": "stdout",
     "output_type": "stream",
     "text": [
      "{'rice': '55', 'fish': '102'}\n",
      "{'rice': '55'}\n"
     ]
    }
   ],
   "source": [
    "#delete item from dictionary \n",
    "price_product={'rice':'55','fish':'102'}\n",
    "print(price_product)\n",
    "del price_product['fish']\n",
    "print(price_product)"
   ]
  },
  {
   "cell_type": "code",
   "execution_count": 17,
   "metadata": {},
   "outputs": [
    {
     "name": "stdout",
     "output_type": "stream",
     "text": [
      "rice=55\n",
      "fish=120\n",
      "meat=500\n",
      "oil=90\n"
     ]
    }
   ],
   "source": [
    "product_price={'rice':'55','fish':'120','meat':'500','oil':'90'}\n",
    "for key,value  in product_price.items():\n",
    "    print(key,value,sep='=')\n",
    "    \n",
    "    \n",
    "#print(product_price['rice'])"
   ]
  },
  {
   "cell_type": "code",
   "execution_count": 22,
   "metadata": {},
   "outputs": [
    {
     "name": "stdout",
     "output_type": "stream",
     "text": [
      "{'rice': '55', 'fish': '120', 'meat': '500', 'oil': '90'}\n",
      "fish->120\n",
      "meat->500\n",
      "oil->90\n",
      "rice->55\n"
     ]
    }
   ],
   "source": [
    "#sorting dictionary\n",
    "product_price={'rice':'55','fish':'120','meat':'500','oil':'90'}\n",
    "print(product_price)\n",
    "for key in sorted(product_price.keys()):\n",
    "    print(key, product_price[key],sep=\"->\")\n"
   ]
  }
 ],
 "metadata": {
  "kernelspec": {
   "display_name": "Python 3",
   "language": "python",
   "name": "python3"
  },
  "language_info": {
   "codemirror_mode": {
    "name": "ipython",
    "version": 3
   },
   "file_extension": ".py",
   "mimetype": "text/x-python",
   "name": "python",
   "nbconvert_exporter": "python",
   "pygments_lexer": "ipython3",
   "version": "3.7.0"
  }
 },
 "nbformat": 4,
 "nbformat_minor": 2
}
